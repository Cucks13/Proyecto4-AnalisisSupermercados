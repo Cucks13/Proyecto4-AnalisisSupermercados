{
 "cells": [
  {
   "cell_type": "code",
   "execution_count": 7,
   "metadata": {},
   "outputs": [],
   "source": [
    "from selenium import webdriver  # Selenium es una herramienta para automatizar la interacción con navegadores web.\n",
    "from webdriver_manager.chrome import ChromeDriverManager  # ChromeDriverManager gestiona la instalación del controlador de Chrome.\n",
    "from selenium.webdriver.common.keys import Keys  # Keys es útil para simular eventos de teclado en Selenium.\n",
    "from selenium.webdriver.support.ui import Select  # Select se utiliza para interactuar con elementos <select> en páginas web.\n",
    "from selenium.webdriver.support.ui import WebDriverWait\n",
    "from selenium.webdriver.support import expected_conditions as EC\n",
    "from selenium.common.exceptions import NoSuchElementException # Excepciones comunes de selenium que nos podemos encontrar\n",
    "from selenium.webdriver.common.by import By\n",
    "from time import sleep\n",
    "from bs4 import BeautifulSoup\n",
    "import requests\n",
    "import pandas as pd\n"
   ]
  },
  {
   "cell_type": "code",
   "execution_count": null,
   "metadata": {},
   "outputs": [],
   "source": [
    "# Buscamos que la url sea como nosotros la pedimos\n",
    "date_1 = '2024-10-25'\n",
    "date_2 = '2024-10-27'\n",
    "ciudad = 'berlin'\n",
    "pagina = 1\n",
    "\n",
    "url = \"https://super.facua.org/eroski/aceite-de-girasol/aceite-de-girasol-capicua-garrafa-5-l/\"\n",
    "\n",
    "#Abrimos en navegador con la Url introducida\n",
    "driver = webdriver.Chrome()\n",
    "url_wunder = url\n",
    "\n",
    "driver.get(url_wunder)\n",
    "driver.maximize_window()\n",
    "sleep(5)\n",
    "driver.close()"
   ]
  },
  {
   "cell_type": "code",
   "execution_count": null,
   "metadata": {},
   "outputs": [],
   "source": [
    "# Vemos que la respuesta es correcta (200)\n",
    "res_civitatis = requests.get(url)\n",
    "print(f\"La respuesta de la petición es: {res_civitatis.status_code}\")"
   ]
  },
  {
   "cell_type": "code",
   "execution_count": null,
   "metadata": {},
   "outputs": [],
   "source": [
    "sopa_aceite_eroski_5L = BeautifulSoup(res_civitatis.content, \"html.parser\")"
   ]
  },
  {
   "cell_type": "code",
   "execution_count": null,
   "metadata": {},
   "outputs": [],
   "source": [
    "# Creamos nuestro bucle para iterar de los datos scrapeados y coger lo que no shace falta\n",
    "bloque_total = sopa_aceite_eroski_5L.findAll(\"tbody\")\n",
    "for i in bloque_total:\n",
    "    filas = i.findAll(\"tr\")\n",
    "\n",
    "print(filas)"
   ]
  },
  {
   "cell_type": "code",
   "execution_count": null,
   "metadata": {},
   "outputs": [],
   "source": [
    "type(filas[0])"
   ]
  },
  {
   "cell_type": "code",
   "execution_count": null,
   "metadata": {},
   "outputs": [],
   "source": [
    "# Creo una lista vacia donde almacenaré mis tuplas\n",
    "lista_de_tuplas = []\n",
    "# Itero sobre la liista(filas) que obtengo de BeoutifulSoup\n",
    "for fila in filas:\n",
    "    # Busco todas las etiquetas td que tenga en mi lista\n",
    "    lista_td = fila.findAll(\"td\")\n",
    "    # Creo una lista intermedia para tratar los datos, perimero convierto los elementos de BS a texto e itero sobre ellos\n",
    "    lista_intermedia = [elemento.text for elemento in lista_td]\n",
    "    # Convierto el elemento 1 en float y para que sea correcto cambio la ',' por '.'\n",
    "    lista_intermedia[1] = float(lista_intermedia[1].replace(\",\", \".\"))\n",
    "    # Los añado en la lista vacia en forma de TUPLA.\n",
    "    lista_de_tuplas.append(tuple(lista_intermedia))"
   ]
  },
  {
   "cell_type": "code",
   "execution_count": null,
   "metadata": {},
   "outputs": [],
   "source": [
    "lista_de_tuplas"
   ]
  },
  {
   "cell_type": "code",
   "execution_count": null,
   "metadata": {},
   "outputs": [],
   "source": [
    "filas[0].findAll(\"td\")[0].find(\"td\")"
   ]
  },
  {
   "cell_type": "code",
   "execution_count": null,
   "metadata": {},
   "outputs": [],
   "source": []
  },
  {
   "cell_type": "code",
   "execution_count": 40,
   "metadata": {},
   "outputs": [],
   "source": [
    "def obtener_datos_tabla(url):\n",
    "    # Realizar la solicitud HTTP y obtener el contenido de la página\n",
    "    res = requests.get(url)\n",
    "    \n",
    "    # Creo mi sopa\n",
    "    sopa = BeautifulSoup(res.content, \"html.parser\")\n",
    "    \n",
    "    # Buscar el bloque de datos en el HTML\n",
    "    bloque_total = sopa.findAll(\"tbody\")\n",
    "    \n",
    "    lista_de_tuplas = []\n",
    "    # Iterar sobre los bloques de datos\n",
    "    for i in bloque_total:\n",
    "        filas = i.findAll(\"tr\")\n",
    "        \n",
    "        for fila in filas:\n",
    "            # Extraer todas las celdas de la fila\n",
    "            lista_td = fila.findAll(\"td\")\n",
    "            # Crear una lista intermedia para procesar los datos\n",
    "            lista_intermedia = [elemento.text for elemento in lista_td]\n",
    "            # Añadimos a mi tupla, nutriendonos de la url, el supermercado, la categoria y el producto\n",
    "            lista_intermedia.extend(url.split(\"/\")[3:6])\n",
    "            # Convertir el segundo elemento a float y reemplazar ',' por '.'\n",
    "            lista_intermedia[1] = float(lista_intermedia[1].replace(\",\", \".\"))\n",
    "            \n",
    "            # Agregar los datos a la lista de tuplas\n",
    "            lista_de_tuplas.append(tuple(lista_intermedia))\n",
    "    \n",
    "    return lista_de_tuplas \n"
   ]
  },
  {
   "cell_type": "code",
   "execution_count": 39,
   "metadata": {},
   "outputs": [
    {
     "data": {
      "text/plain": [
       "[1, 2, 3, 4, 5, 6]"
      ]
     },
     "execution_count": 39,
     "metadata": {},
     "output_type": "execute_result"
    }
   ],
   "source": [
    "listai = [1,2,3]\n",
    "lista2 = [4,5,6]\n",
    "listai.extend(lista2)\n",
    "listai"
   ]
  },
  {
   "cell_type": "code",
   "execution_count": 36,
   "metadata": {},
   "outputs": [
    {
     "data": {
      "text/plain": [
       "['mercadona', 'leche', 'leche-desnatada-hacendado-1-l']"
      ]
     },
     "execution_count": 36,
     "metadata": {},
     "output_type": "execute_result"
    }
   ],
   "source": [
    "url1 = \"https://super.facua.org/mercadona/leche/leche-desnatada-hacendado-1-l/\"\n",
    "url1.split(\"/\")[3:6]"
   ]
  },
  {
   "cell_type": "code",
   "execution_count": 41,
   "metadata": {},
   "outputs": [
    {
     "name": "stdout",
     "output_type": "stream",
     "text": [
      "[('15/07/2024', 0.8, '=', 'mercadona', 'leche', 'leche-desnatada-hacendado-1-l'), ('16/07/2024', 0.8, '=', 'mercadona', 'leche', 'leche-desnatada-hacendado-1-l'), ('17/07/2024', 0.8, '=', 'mercadona', 'leche', 'leche-desnatada-hacendado-1-l'), ('18/07/2024', 0.8, '=', 'mercadona', 'leche', 'leche-desnatada-hacendado-1-l'), ('19/07/2024', 0.8, '=', 'mercadona', 'leche', 'leche-desnatada-hacendado-1-l'), ('20/07/2024', 0.8, '=', 'mercadona', 'leche', 'leche-desnatada-hacendado-1-l'), ('21/07/2024', 0.8, '=', 'mercadona', 'leche', 'leche-desnatada-hacendado-1-l'), ('22/07/2024', 0.8, '=', 'mercadona', 'leche', 'leche-desnatada-hacendado-1-l'), ('23/07/2024', 0.8, '=', 'mercadona', 'leche', 'leche-desnatada-hacendado-1-l'), ('24/07/2024', 0.8, '=', 'mercadona', 'leche', 'leche-desnatada-hacendado-1-l'), ('25/07/2024', 0.8, '=', 'mercadona', 'leche', 'leche-desnatada-hacendado-1-l'), ('26/07/2024', 0.8, '=', 'mercadona', 'leche', 'leche-desnatada-hacendado-1-l'), ('27/07/2024', 0.8, '=', 'mercadona', 'leche', 'leche-desnatada-hacendado-1-l'), ('28/07/2024', 0.8, '=', 'mercadona', 'leche', 'leche-desnatada-hacendado-1-l'), ('29/07/2024', 0.8, '=', 'mercadona', 'leche', 'leche-desnatada-hacendado-1-l'), ('30/07/2024', 0.8, '=', 'mercadona', 'leche', 'leche-desnatada-hacendado-1-l'), ('31/07/2024', 0.8, '=', 'mercadona', 'leche', 'leche-desnatada-hacendado-1-l'), ('01/08/2024', 0.8, '=', 'mercadona', 'leche', 'leche-desnatada-hacendado-1-l'), ('02/08/2024', 0.8, '=', 'mercadona', 'leche', 'leche-desnatada-hacendado-1-l'), ('03/08/2024', 0.8, '=', 'mercadona', 'leche', 'leche-desnatada-hacendado-1-l'), ('04/08/2024', 0.8, '=', 'mercadona', 'leche', 'leche-desnatada-hacendado-1-l'), ('05/08/2024', 0.8, '=', 'mercadona', 'leche', 'leche-desnatada-hacendado-1-l'), ('06/08/2024', 0.8, '=', 'mercadona', 'leche', 'leche-desnatada-hacendado-1-l'), ('07/08/2024', 0.8, '=', 'mercadona', 'leche', 'leche-desnatada-hacendado-1-l'), ('08/08/2024', 0.8, '=', 'mercadona', 'leche', 'leche-desnatada-hacendado-1-l'), ('09/08/2024', 0.8, '=', 'mercadona', 'leche', 'leche-desnatada-hacendado-1-l'), ('10/08/2024', 0.8, '=', 'mercadona', 'leche', 'leche-desnatada-hacendado-1-l'), ('11/08/2024', 0.8, '=', 'mercadona', 'leche', 'leche-desnatada-hacendado-1-l'), ('12/08/2024', 0.8, '=', 'mercadona', 'leche', 'leche-desnatada-hacendado-1-l'), ('13/08/2024', 0.8, '=', 'mercadona', 'leche', 'leche-desnatada-hacendado-1-l'), ('14/08/2024', 0.8, '=', 'mercadona', 'leche', 'leche-desnatada-hacendado-1-l'), ('15/08/2024', 0.8, '=', 'mercadona', 'leche', 'leche-desnatada-hacendado-1-l'), ('16/08/2024', 0.8, '=', 'mercadona', 'leche', 'leche-desnatada-hacendado-1-l'), ('17/08/2024', 0.8, '=', 'mercadona', 'leche', 'leche-desnatada-hacendado-1-l'), ('18/08/2024', 0.8, '=', 'mercadona', 'leche', 'leche-desnatada-hacendado-1-l'), ('19/08/2024', 0.8, '=', 'mercadona', 'leche', 'leche-desnatada-hacendado-1-l'), ('20/08/2024', 0.8, '=', 'mercadona', 'leche', 'leche-desnatada-hacendado-1-l'), ('21/08/2024', 0.8, '=', 'mercadona', 'leche', 'leche-desnatada-hacendado-1-l'), ('22/08/2024', 0.8, '=', 'mercadona', 'leche', 'leche-desnatada-hacendado-1-l'), ('23/08/2024', 0.8, '=', 'mercadona', 'leche', 'leche-desnatada-hacendado-1-l'), ('24/08/2024', 0.8, '=', 'mercadona', 'leche', 'leche-desnatada-hacendado-1-l'), ('25/08/2024', 0.8, '=', 'mercadona', 'leche', 'leche-desnatada-hacendado-1-l'), ('26/08/2024', 0.8, '=', 'mercadona', 'leche', 'leche-desnatada-hacendado-1-l'), ('27/08/2024', 0.8, '=', 'mercadona', 'leche', 'leche-desnatada-hacendado-1-l'), ('28/08/2024', 0.8, '=', 'mercadona', 'leche', 'leche-desnatada-hacendado-1-l'), ('29/08/2024', 0.8, '=', 'mercadona', 'leche', 'leche-desnatada-hacendado-1-l'), ('30/08/2024', 0.8, '=', 'mercadona', 'leche', 'leche-desnatada-hacendado-1-l'), ('31/08/2024', 0.8, '=', 'mercadona', 'leche', 'leche-desnatada-hacendado-1-l'), ('01/09/2024', 0.8, '=', 'mercadona', 'leche', 'leche-desnatada-hacendado-1-l'), ('02/09/2024', 0.8, '=', 'mercadona', 'leche', 'leche-desnatada-hacendado-1-l'), ('03/09/2024', 0.8, '=', 'mercadona', 'leche', 'leche-desnatada-hacendado-1-l'), ('04/09/2024', 0.77, '-0,03 (3,75%)', 'mercadona', 'leche', 'leche-desnatada-hacendado-1-l'), ('05/09/2024', 0.77, '=', 'mercadona', 'leche', 'leche-desnatada-hacendado-1-l'), ('06/09/2024', 0.77, '=', 'mercadona', 'leche', 'leche-desnatada-hacendado-1-l'), ('07/09/2024', 0.77, '=', 'mercadona', 'leche', 'leche-desnatada-hacendado-1-l'), ('08/09/2024', 0.77, '=', 'mercadona', 'leche', 'leche-desnatada-hacendado-1-l'), ('09/09/2024', 0.77, '=', 'mercadona', 'leche', 'leche-desnatada-hacendado-1-l'), ('10/09/2024', 0.77, '=', 'mercadona', 'leche', 'leche-desnatada-hacendado-1-l'), ('11/09/2024', 0.77, '=', 'mercadona', 'leche', 'leche-desnatada-hacendado-1-l'), ('12/09/2024', 0.77, '=', 'mercadona', 'leche', 'leche-desnatada-hacendado-1-l'), ('13/09/2024', 0.77, '=', 'mercadona', 'leche', 'leche-desnatada-hacendado-1-l'), ('14/09/2024', 0.77, '=', 'mercadona', 'leche', 'leche-desnatada-hacendado-1-l'), ('15/09/2024', 0.77, '=', 'mercadona', 'leche', 'leche-desnatada-hacendado-1-l'), ('16/09/2024', 0.77, '=', 'mercadona', 'leche', 'leche-desnatada-hacendado-1-l'), ('17/09/2024', 0.77, '=', 'mercadona', 'leche', 'leche-desnatada-hacendado-1-l'), ('18/09/2024', 0.77, '=', 'mercadona', 'leche', 'leche-desnatada-hacendado-1-l'), ('19/09/2024', 0.77, '=', 'mercadona', 'leche', 'leche-desnatada-hacendado-1-l'), ('20/09/2024', 0.77, '=', 'mercadona', 'leche', 'leche-desnatada-hacendado-1-l'), ('21/09/2024', 0.77, '=', 'mercadona', 'leche', 'leche-desnatada-hacendado-1-l'), ('22/09/2024', 0.77, '=', 'mercadona', 'leche', 'leche-desnatada-hacendado-1-l'), ('23/09/2024', 0.77, '=', 'mercadona', 'leche', 'leche-desnatada-hacendado-1-l'), ('24/09/2024', 0.77, '=', 'mercadona', 'leche', 'leche-desnatada-hacendado-1-l'), ('25/09/2024', 0.77, '=', 'mercadona', 'leche', 'leche-desnatada-hacendado-1-l'), ('26/09/2024', 0.77, '=', 'mercadona', 'leche', 'leche-desnatada-hacendado-1-l'), ('27/09/2024', 0.77, '=', 'mercadona', 'leche', 'leche-desnatada-hacendado-1-l'), ('28/09/2024', 0.77, '=', 'mercadona', 'leche', 'leche-desnatada-hacendado-1-l'), ('29/09/2024', 0.77, '=', 'mercadona', 'leche', 'leche-desnatada-hacendado-1-l'), ('30/09/2024', 0.77, '=', 'mercadona', 'leche', 'leche-desnatada-hacendado-1-l'), ('01/10/2024', 0.79, '+0,02 (2,60%)', 'mercadona', 'leche', 'leche-desnatada-hacendado-1-l'), ('02/10/2024', 0.79, '=', 'mercadona', 'leche', 'leche-desnatada-hacendado-1-l'), ('03/10/2024', 0.79, '=', 'mercadona', 'leche', 'leche-desnatada-hacendado-1-l'), ('04/10/2024', 0.79, '=', 'mercadona', 'leche', 'leche-desnatada-hacendado-1-l'), ('05/10/2024', 0.79, '=', 'mercadona', 'leche', 'leche-desnatada-hacendado-1-l'), ('06/10/2024', 0.79, '=', 'mercadona', 'leche', 'leche-desnatada-hacendado-1-l'), ('07/10/2024', 0.79, '=', 'mercadona', 'leche', 'leche-desnatada-hacendado-1-l'), ('08/10/2024', 0.79, '=', 'mercadona', 'leche', 'leche-desnatada-hacendado-1-l'), ('09/10/2024', 0.79, '=', 'mercadona', 'leche', 'leche-desnatada-hacendado-1-l'), ('10/10/2024', 0.79, '=', 'mercadona', 'leche', 'leche-desnatada-hacendado-1-l'), ('11/10/2024', 0.79, '=', 'mercadona', 'leche', 'leche-desnatada-hacendado-1-l'), ('12/10/2024', 0.79, '=', 'mercadona', 'leche', 'leche-desnatada-hacendado-1-l'), ('13/10/2024', 0.79, '=', 'mercadona', 'leche', 'leche-desnatada-hacendado-1-l'), ('14/10/2024', 0.79, '=', 'mercadona', 'leche', 'leche-desnatada-hacendado-1-l'), ('15/10/2024', 0.79, '=', 'mercadona', 'leche', 'leche-desnatada-hacendado-1-l'), ('16/10/2024', 0.79, '=', 'mercadona', 'leche', 'leche-desnatada-hacendado-1-l'), ('17/10/2024', 0.79, '=', 'mercadona', 'leche', 'leche-desnatada-hacendado-1-l'), ('18/10/2024', 0.79, '=', 'mercadona', 'leche', 'leche-desnatada-hacendado-1-l'), ('19/10/2024', 0.79, '=', 'mercadona', 'leche', 'leche-desnatada-hacendado-1-l'), ('20/10/2024', 0.79, '=', 'mercadona', 'leche', 'leche-desnatada-hacendado-1-l'), ('21/10/2024', 0.79, '=', 'mercadona', 'leche', 'leche-desnatada-hacendado-1-l'), ('22/10/2024', 0.79, '=', 'mercadona', 'leche', 'leche-desnatada-hacendado-1-l'), ('23/10/2024', 0.79, '=', 'mercadona', 'leche', 'leche-desnatada-hacendado-1-l'), ('24/10/2024', 0.79, '=', 'mercadona', 'leche', 'leche-desnatada-hacendado-1-l'), ('25/10/2024', 0.79, '=', 'mercadona', 'leche', 'leche-desnatada-hacendado-1-l')]\n"
     ]
    }
   ],
   "source": [
    "url = \"https://super.facua.org/carrefour/aceite-de-girasol/aceite-de-girasol-koipe-sol-spray-150-ml/\"  # Reemplaza con la URL real\n",
    "\n",
    "# Llama a la función y almacena los resultados\n",
    "datos_obtenidos = obtener_datos_tabla(url1)\n",
    "\n",
    "# Imprime los datos obtenidos\n",
    "print(datos_obtenidos)"
   ]
  },
  {
   "cell_type": "code",
   "execution_count": 44,
   "metadata": {},
   "outputs": [
    {
     "data": {
      "text/html": [
       "<div>\n",
       "<style scoped>\n",
       "    .dataframe tbody tr th:only-of-type {\n",
       "        vertical-align: middle;\n",
       "    }\n",
       "\n",
       "    .dataframe tbody tr th {\n",
       "        vertical-align: top;\n",
       "    }\n",
       "\n",
       "    .dataframe thead th {\n",
       "        text-align: right;\n",
       "    }\n",
       "</style>\n",
       "<table border=\"1\" class=\"dataframe\">\n",
       "  <thead>\n",
       "    <tr style=\"text-align: right;\">\n",
       "      <th></th>\n",
       "      <th>0</th>\n",
       "      <th>1</th>\n",
       "      <th>2</th>\n",
       "      <th>3</th>\n",
       "      <th>4</th>\n",
       "      <th>5</th>\n",
       "    </tr>\n",
       "  </thead>\n",
       "  <tbody>\n",
       "    <tr>\n",
       "      <th>0</th>\n",
       "      <td>15/07/2024</td>\n",
       "      <td>0.80</td>\n",
       "      <td>=</td>\n",
       "      <td>mercadona</td>\n",
       "      <td>leche</td>\n",
       "      <td>leche-desnatada-hacendado-1-l</td>\n",
       "    </tr>\n",
       "    <tr>\n",
       "      <th>1</th>\n",
       "      <td>16/07/2024</td>\n",
       "      <td>0.80</td>\n",
       "      <td>=</td>\n",
       "      <td>mercadona</td>\n",
       "      <td>leche</td>\n",
       "      <td>leche-desnatada-hacendado-1-l</td>\n",
       "    </tr>\n",
       "    <tr>\n",
       "      <th>2</th>\n",
       "      <td>17/07/2024</td>\n",
       "      <td>0.80</td>\n",
       "      <td>=</td>\n",
       "      <td>mercadona</td>\n",
       "      <td>leche</td>\n",
       "      <td>leche-desnatada-hacendado-1-l</td>\n",
       "    </tr>\n",
       "    <tr>\n",
       "      <th>3</th>\n",
       "      <td>18/07/2024</td>\n",
       "      <td>0.80</td>\n",
       "      <td>=</td>\n",
       "      <td>mercadona</td>\n",
       "      <td>leche</td>\n",
       "      <td>leche-desnatada-hacendado-1-l</td>\n",
       "    </tr>\n",
       "    <tr>\n",
       "      <th>4</th>\n",
       "      <td>19/07/2024</td>\n",
       "      <td>0.80</td>\n",
       "      <td>=</td>\n",
       "      <td>mercadona</td>\n",
       "      <td>leche</td>\n",
       "      <td>leche-desnatada-hacendado-1-l</td>\n",
       "    </tr>\n",
       "    <tr>\n",
       "      <th>...</th>\n",
       "      <td>...</td>\n",
       "      <td>...</td>\n",
       "      <td>...</td>\n",
       "      <td>...</td>\n",
       "      <td>...</td>\n",
       "      <td>...</td>\n",
       "    </tr>\n",
       "    <tr>\n",
       "      <th>98</th>\n",
       "      <td>21/10/2024</td>\n",
       "      <td>0.79</td>\n",
       "      <td>=</td>\n",
       "      <td>mercadona</td>\n",
       "      <td>leche</td>\n",
       "      <td>leche-desnatada-hacendado-1-l</td>\n",
       "    </tr>\n",
       "    <tr>\n",
       "      <th>99</th>\n",
       "      <td>22/10/2024</td>\n",
       "      <td>0.79</td>\n",
       "      <td>=</td>\n",
       "      <td>mercadona</td>\n",
       "      <td>leche</td>\n",
       "      <td>leche-desnatada-hacendado-1-l</td>\n",
       "    </tr>\n",
       "    <tr>\n",
       "      <th>100</th>\n",
       "      <td>23/10/2024</td>\n",
       "      <td>0.79</td>\n",
       "      <td>=</td>\n",
       "      <td>mercadona</td>\n",
       "      <td>leche</td>\n",
       "      <td>leche-desnatada-hacendado-1-l</td>\n",
       "    </tr>\n",
       "    <tr>\n",
       "      <th>101</th>\n",
       "      <td>24/10/2024</td>\n",
       "      <td>0.79</td>\n",
       "      <td>=</td>\n",
       "      <td>mercadona</td>\n",
       "      <td>leche</td>\n",
       "      <td>leche-desnatada-hacendado-1-l</td>\n",
       "    </tr>\n",
       "    <tr>\n",
       "      <th>102</th>\n",
       "      <td>25/10/2024</td>\n",
       "      <td>0.79</td>\n",
       "      <td>=</td>\n",
       "      <td>mercadona</td>\n",
       "      <td>leche</td>\n",
       "      <td>leche-desnatada-hacendado-1-l</td>\n",
       "    </tr>\n",
       "  </tbody>\n",
       "</table>\n",
       "<p>103 rows × 6 columns</p>\n",
       "</div>"
      ],
      "text/plain": [
       "              0     1  2          3      4                              5\n",
       "0    15/07/2024  0.80  =  mercadona  leche  leche-desnatada-hacendado-1-l\n",
       "1    16/07/2024  0.80  =  mercadona  leche  leche-desnatada-hacendado-1-l\n",
       "2    17/07/2024  0.80  =  mercadona  leche  leche-desnatada-hacendado-1-l\n",
       "3    18/07/2024  0.80  =  mercadona  leche  leche-desnatada-hacendado-1-l\n",
       "4    19/07/2024  0.80  =  mercadona  leche  leche-desnatada-hacendado-1-l\n",
       "..          ...   ... ..        ...    ...                            ...\n",
       "98   21/10/2024  0.79  =  mercadona  leche  leche-desnatada-hacendado-1-l\n",
       "99   22/10/2024  0.79  =  mercadona  leche  leche-desnatada-hacendado-1-l\n",
       "100  23/10/2024  0.79  =  mercadona  leche  leche-desnatada-hacendado-1-l\n",
       "101  24/10/2024  0.79  =  mercadona  leche  leche-desnatada-hacendado-1-l\n",
       "102  25/10/2024  0.79  =  mercadona  leche  leche-desnatada-hacendado-1-l\n",
       "\n",
       "[103 rows x 6 columns]"
      ]
     },
     "execution_count": 44,
     "metadata": {},
     "output_type": "execute_result"
    }
   ],
   "source": [
    "pd.DataFrame(datos_obtenidos)"
   ]
  },
  {
   "cell_type": "code",
   "execution_count": 5,
   "metadata": {},
   "outputs": [],
   "source": [
    "def get_urls(url, texto):\n",
    "    driver = webdriver.Chrome()\n",
    "    urls_return = []\n",
    "\n",
    "    driver.get(url)\n",
    "    driver.maximize_window()\n",
    "    sleep(5)\n",
    "    driver.find_element('css selector','#rcc-confirm-button').click()\n",
    "    sleep(5)\n",
    "    links = driver.find_elements(By.PARTIAL_LINK_TEXT, texto)\n",
    "\n",
    "    for i in links:\n",
    "        urls_return.append(i.get_attribute(\"href\"))\n",
    "\n",
    "    driver.close()\n",
    "\n",
    "    return urls_return"
   ]
  },
  {
   "cell_type": "code",
   "execution_count": 10,
   "metadata": {},
   "outputs": [],
   "source": [
    "listas_url_supermercados = get_urls(\"https://super.facua.org/\", 'Acceder')"
   ]
  },
  {
   "cell_type": "code",
   "execution_count": 11,
   "metadata": {},
   "outputs": [
    {
     "data": {
      "text/plain": [
       "['https://super.facua.org/mercadona/',\n",
       " 'https://super.facua.org/carrefour/',\n",
       " 'https://super.facua.org/eroski/',\n",
       " 'https://super.facua.org/dia/',\n",
       " 'https://super.facua.org/hipercor/',\n",
       " 'https://super.facua.org/alcampo/']"
      ]
     },
     "execution_count": 11,
     "metadata": {},
     "output_type": "execute_result"
    }
   ],
   "source": [
    "listas_url_supermercados"
   ]
  },
  {
   "cell_type": "code",
   "execution_count": 15,
   "metadata": {},
   "outputs": [],
   "source": [
    "listas_categorias_por_supermercados1 = []\n",
    "for i in listas_url_supermercados:\n",
    "    listas_categorias_por_supermercados1.append(get_urls(i,'Ver'))"
   ]
  },
  {
   "cell_type": "code",
   "execution_count": 25,
   "metadata": {},
   "outputs": [],
   "source": [
    "lista_limpita_categorias = []\n",
    "for k in listas_categorias_por_supermercados1:\n",
    "    for h in k:\n",
    "        lista_limpita_categorias.append(h)"
   ]
  },
  {
   "cell_type": "code",
   "execution_count": 28,
   "metadata": {},
   "outputs": [],
   "source": [
    "listas_productos = []\n",
    "for producto in lista_limpita_categorias:\n",
    "    listas_productos.append(get_urls(producto, 'Histórico'))"
   ]
  },
  {
   "cell_type": "code",
   "execution_count": 31,
   "metadata": {},
   "outputs": [],
   "source": [
    "lista_productos_limpiados = []\n",
    "for p in listas_productos:\n",
    "    for q in p:\n",
    "        lista_productos_limpiados.append(q)"
   ]
  }
 ],
 "metadata": {
  "kernelspec": {
   "display_name": "Python 3",
   "language": "python",
   "name": "python3"
  },
  "language_info": {
   "codemirror_mode": {
    "name": "ipython",
    "version": 3
   },
   "file_extension": ".py",
   "mimetype": "text/x-python",
   "name": "python",
   "nbconvert_exporter": "python",
   "pygments_lexer": "ipython3",
   "version": "3.12.4"
  }
 },
 "nbformat": 4,
 "nbformat_minor": 2
}
