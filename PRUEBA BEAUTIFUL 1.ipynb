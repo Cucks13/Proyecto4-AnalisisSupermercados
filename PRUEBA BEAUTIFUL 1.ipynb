{
 "cells": [
  {
   "cell_type": "code",
   "execution_count": 1,
   "metadata": {},
   "outputs": [],
   "source": [
    "from selenium import webdriver  # Selenium es una herramienta para automatizar la interacción con navegadores web.\n",
    "from webdriver_manager.chrome import ChromeDriverManager  # ChromeDriverManager gestiona la instalación del controlador de Chrome.\n",
    "from selenium.webdriver.common.keys import Keys  # Keys es útil para simular eventos de teclado en Selenium.\n",
    "from selenium.webdriver.support.ui import Select  # Select se utiliza para interactuar con elementos <select> en páginas web.\n",
    "from selenium.webdriver.support.ui import WebDriverWait\n",
    "from selenium.webdriver.support import expected_conditions as EC\n",
    "from selenium.common.exceptions import NoSuchElementException # Excepciones comunes de selenium que nos podemos encontrar\n",
    "from time import sleep\n",
    "from bs4 import BeautifulSoup\n",
    "import requests\n",
    "import pandas as pd"
   ]
  },
  {
   "cell_type": "code",
   "execution_count": null,
   "metadata": {},
   "outputs": [],
   "source": [
    "# Buscamos que la url sea como nosotros la pedimos\n",
    "date_1 = '2024-10-25'\n",
    "date_2 = '2024-10-27'\n",
    "ciudad = 'berlin'\n",
    "pagina = 1\n",
    "\n",
    "url = \"https://super.facua.org/eroski/aceite-de-girasol/aceite-de-girasol-capicua-garrafa-5-l/\"\n",
    "\n",
    "#Abrimos en navegador con la Url introducida\n",
    "driver = webdriver.Chrome()\n",
    "url_wunder = url\n",
    "\n",
    "driver.get(url_wunder)\n",
    "driver.maximize_window()\n",
    "sleep(5)\n",
    "driver.close()"
   ]
  },
  {
   "cell_type": "code",
   "execution_count": null,
   "metadata": {},
   "outputs": [],
   "source": [
    "# Vemos que la respuesta es correcta (200)\n",
    "res_civitatis = requests.get(url)\n",
    "print(f\"La respuesta de la petición es: {res_civitatis.status_code}\")"
   ]
  },
  {
   "cell_type": "code",
   "execution_count": null,
   "metadata": {},
   "outputs": [],
   "source": [
    "sopa_aceite_eroski_5L = BeautifulSoup(res_civitatis.content, \"html.parser\")"
   ]
  },
  {
   "cell_type": "code",
   "execution_count": null,
   "metadata": {},
   "outputs": [],
   "source": [
    "# Creamos nuestro bucle para iterar de los datos scrapeados y coger lo que no shace falta\n",
    "bloque_total = sopa_aceite_eroski_5L.findAll(\"tbody\")\n",
    "for i in bloque_total:\n",
    "    filas = i.findAll(\"tr\")\n",
    "\n",
    "print(filas)"
   ]
  },
  {
   "cell_type": "code",
   "execution_count": null,
   "metadata": {},
   "outputs": [],
   "source": [
    "type(filas[0])"
   ]
  },
  {
   "cell_type": "code",
   "execution_count": null,
   "metadata": {},
   "outputs": [],
   "source": [
    "# Creo una lista vacia donde almacenaré mis tuplas\n",
    "lista_de_tuplas = []\n",
    "# Itero sobre la liista(filas) que obtengo de BeoutifulSoup\n",
    "for fila in filas:\n",
    "    # Busco todas las etiquetas td que tenga en mi lista\n",
    "    lista_td = fila.findAll(\"td\")\n",
    "    # Creo una lista intermedia para tratar los datos, perimero convierto los elementos de BS a texto e itero sobre ellos\n",
    "    lista_intermedia = [elemento.text for elemento in lista_td]\n",
    "    # Convierto el elemento 1 en float y para que sea correcto cambio la ',' por '.'\n",
    "    lista_intermedia[1] = float(lista_intermedia[1].replace(\",\", \".\"))\n",
    "    # Los añado en la lista vacia en forma de TUPLA.\n",
    "    lista_de_tuplas.append(tuple(lista_intermedia))"
   ]
  },
  {
   "cell_type": "code",
   "execution_count": null,
   "metadata": {},
   "outputs": [],
   "source": [
    "lista_de_tuplas"
   ]
  },
  {
   "cell_type": "code",
   "execution_count": null,
   "metadata": {},
   "outputs": [],
   "source": [
    "filas[0].findAll(\"td\")[0].find(\"td\")"
   ]
  },
  {
   "cell_type": "code",
   "execution_count": null,
   "metadata": {},
   "outputs": [],
   "source": []
  },
  {
   "cell_type": "code",
   "execution_count": 2,
   "metadata": {},
   "outputs": [],
   "source": [
    "def obtener_datos_tabla(url):\n",
    "    # Realizar la solicitud HTTP y obtener el contenido de la página\n",
    "    res = requests.get(url)\n",
    "    \n",
    "    # Parsear el HTML con BeautifulSoup\n",
    "    sopa = BeautifulSoup(res.content, \"html.parser\")\n",
    "    \n",
    "    # Buscar el bloque de datos en el HTML\n",
    "    bloque_total = sopa.findAll(\"tbody\")\n",
    "    \n",
    "    lista_de_tuplas = []\n",
    "    # Iterar sobre los bloques de datos\n",
    "    for i in bloque_total:\n",
    "        filas = i.findAll(\"tr\")\n",
    "        \n",
    "        for fila in filas:\n",
    "            # Extraer todas las celdas de la fila\n",
    "            lista_td = fila.findAll(\"td\")\n",
    "            # Crear una lista intermedia para procesar los datos\n",
    "            lista_intermedia = [elemento.text for elemento in lista_td]\n",
    "            \n",
    "            # Convertir el segundo elemento a float y reemplazar ',' por '.'\n",
    "            lista_intermedia[1] = float(lista_intermedia[1].replace(\",\", \".\"))\n",
    "            \n",
    "            # Agregar los datos a la lista de tuplas\n",
    "            lista_de_tuplas.append(tuple(lista_intermedia))\n",
    "    \n",
    "    return lista_de_tuplas\n"
   ]
  },
  {
   "cell_type": "code",
   "execution_count": 4,
   "metadata": {},
   "outputs": [
    {
     "name": "stdout",
     "output_type": "stream",
     "text": [
      "[('12/07/2024', 2.29, '='), ('13/07/2024', 2.29, '='), ('14/07/2024', 2.29, '='), ('15/07/2024', 2.29, '='), ('16/07/2024', 2.29, '='), ('17/07/2024', 2.29, '='), ('18/07/2024', 2.29, '='), ('19/07/2024', 2.29, '='), ('20/07/2024', 2.29, '='), ('21/07/2024', 2.29, '='), ('22/07/2024', 2.29, '='), ('23/07/2024', 2.29, '='), ('24/07/2024', 2.29, '='), ('25/07/2024', 2.29, '='), ('26/07/2024', 2.29, '='), ('27/07/2024', 2.29, '='), ('28/07/2024', 2.29, '='), ('29/07/2024', 2.29, '='), ('30/07/2024', 2.29, '='), ('31/07/2024', 2.29, '='), ('01/08/2024', 2.29, '='), ('02/08/2024', 2.29, '='), ('03/08/2024', 2.29, '='), ('04/08/2024', 2.29, '='), ('05/08/2024', 2.29, '='), ('06/08/2024', 2.29, '='), ('07/08/2024', 2.29, '='), ('09/08/2024', 2.29, '='), ('10/08/2024', 2.29, '='), ('11/08/2024', 2.29, '='), ('12/08/2024', 2.29, '='), ('13/08/2024', 2.29, '='), ('14/08/2024', 2.29, '='), ('15/08/2024', 2.29, '='), ('16/08/2024', 2.29, '='), ('17/08/2024', 2.29, '='), ('18/08/2024', 2.29, '='), ('19/08/2024', 2.29, '='), ('20/08/2024', 2.29, '='), ('21/08/2024', 2.29, '='), ('22/08/2024', 2.29, '='), ('23/08/2024', 2.29, '='), ('24/08/2024', 2.29, '='), ('25/08/2024', 2.29, '='), ('26/08/2024', 2.49, '+0,20 (8,73%)'), ('27/08/2024', 2.49, '='), ('28/08/2024', 2.49, '='), ('29/08/2024', 2.49, '='), ('30/08/2024', 2.49, '='), ('31/08/2024', 2.49, '='), ('01/09/2024', 2.49, '='), ('02/09/2024', 2.39, '-0,10 (4,02%)'), ('03/09/2024', 2.39, '='), ('04/09/2024', 2.39, '='), ('05/09/2024', 2.39, '='), ('06/09/2024', 2.39, '='), ('07/09/2024', 2.39, '='), ('08/09/2024', 2.39, '='), ('09/09/2024', 2.39, '='), ('10/09/2024', 2.39, '='), ('11/09/2024', 2.39, '='), ('12/09/2024', 2.39, '='), ('13/09/2024', 2.39, '='), ('14/09/2024', 2.39, '='), ('15/09/2024', 2.39, '='), ('16/09/2024', 2.39, '='), ('17/09/2024', 2.39, '='), ('03/10/2024', 2.55, '+0,16 (6,69%)'), ('04/10/2024', 2.55, '='), ('05/10/2024', 2.55, '='), ('06/10/2024', 2.55, '='), ('09/10/2024', 2.55, '='), ('10/10/2024', 2.55, '='), ('11/10/2024', 2.55, '='), ('12/10/2024', 2.55, '='), ('13/10/2024', 2.55, '='), ('14/10/2024', 2.55, '='), ('15/10/2024', 2.55, '='), ('16/10/2024', 2.55, '='), ('17/10/2024', 2.55, '='), ('18/10/2024', 2.55, '='), ('21/10/2024', 2.55, '='), ('22/10/2024', 2.55, '='), ('23/10/2024', 2.55, '='), ('24/10/2024', 2.55, '='), ('25/10/2024', 2.55, '=')]\n"
     ]
    }
   ],
   "source": [
    "url = \"https://super.facua.org/carrefour/aceite-de-girasol/aceite-de-girasol-koipe-sol-spray-150-ml/\"  # Reemplaza con la URL real\n",
    "\n",
    "# Llama a la función y almacena los resultados\n",
    "datos_obtenidos = obtener_datos_tabla(url)\n",
    "\n",
    "# Imprime los datos obtenidos\n",
    "print(datos_obtenidos)"
   ]
  }
 ],
 "metadata": {
  "kernelspec": {
   "display_name": "Python 3",
   "language": "python",
   "name": "python3"
  },
  "language_info": {
   "codemirror_mode": {
    "name": "ipython",
    "version": 3
   },
   "file_extension": ".py",
   "mimetype": "text/x-python",
   "name": "python",
   "nbconvert_exporter": "python",
   "pygments_lexer": "ipython3",
   "version": "3.12.4"
  }
 },
 "nbformat": 4,
 "nbformat_minor": 2
}
