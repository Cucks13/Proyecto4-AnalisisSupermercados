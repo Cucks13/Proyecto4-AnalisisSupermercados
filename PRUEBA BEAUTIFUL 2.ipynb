{
 "cells": [
  {
   "cell_type": "code",
   "execution_count": 2,
   "metadata": {},
   "outputs": [],
   "source": [
    "from selenium import webdriver  # Selenium es una herramienta para automatizar la interacción con navegadores web.\n",
    "from webdriver_manager.chrome import ChromeDriverManager  # ChromeDriverManager gestiona la instalación del controlador de Chrome.\n",
    "from selenium.webdriver.common.keys import Keys  # Keys es útil para simular eventos de teclado en Selenium.\n",
    "from selenium.webdriver.support.ui import Select  # Select se utiliza para interactuar con elementos <select> en páginas web.\n",
    "from selenium.webdriver.support.ui import WebDriverWait\n",
    "from selenium.webdriver.support import expected_conditions as EC\n",
    "from selenium.common.exceptions import NoSuchElementException # Excepciones comunes de selenium que nos podemos encontrar\n",
    "from selenium.webdriver.common.by import By\n",
    "from time import sleep\n",
    "from bs4 import BeautifulSoup\n",
    "import requests\n",
    "import pandas as pd"
   ]
  },
  {
   "cell_type": "code",
   "execution_count": 3,
   "metadata": {},
   "outputs": [],
   "source": [
    "def obtener_datos_tabla(url):\n",
    "    # Realizar la solicitud HTTP y obtener el contenido de la página\n",
    "    res = requests.get(url)\n",
    "    \n",
    "    # Creo mi sopa\n",
    "    sopa = BeautifulSoup(res.content, \"html.parser\")\n",
    "    \n",
    "    # Buscar el bloque de datos en el HTML\n",
    "    bloque_total = sopa.findAll(\"tbody\")\n",
    "    \n",
    "    lista_de_tuplas = []\n",
    "    # Iterar sobre los bloques de datos\n",
    "    for i in bloque_total:\n",
    "        filas = i.findAll(\"tr\")\n",
    "        \n",
    "        for fila in filas:\n",
    "            # Extraer todas las celdas de la fila\n",
    "            lista_td = fila.findAll(\"td\")\n",
    "            # Crear una lista intermedia para procesar los datos\n",
    "            lista_intermedia = [elemento.text for elemento in lista_td]\n",
    "            # Añadimos a mi tupla, nutriendonos de la url, el supermercado, la categoria y el producto\n",
    "            lista_intermedia.extend(url.split(\"/\")[3:6])\n",
    "            # Convertir el segundo elemento a float y reemplazar ',' por '.'\n",
    "            lista_intermedia[1] = float(lista_intermedia[1].replace(\",\", \".\"))\n",
    "            \n",
    "            # Agregar los datos a la lista de tuplas\n",
    "            lista_de_tuplas.append(tuple(lista_intermedia))\n",
    "    \n",
    "    return lista_de_tuplas \n"
   ]
  },
  {
   "cell_type": "code",
   "execution_count": 4,
   "metadata": {},
   "outputs": [],
   "source": [
    "def get_urls(url, texto):\n",
    "    driver = webdriver.Chrome()\n",
    "    urls_return = []\n",
    "\n",
    "    driver.get(url)\n",
    "    driver.maximize_window()\n",
    "    sleep(5)\n",
    "    driver.find_element('css selector','#rcc-confirm-button').click()\n",
    "    sleep(5)\n",
    "    links = driver.find_elements(By.PARTIAL_LINK_TEXT, texto)\n",
    "\n",
    "    for i in links:\n",
    "        urls_return.append(i.get_attribute(\"href\"))\n",
    "\n",
    "    driver.close()\n",
    "\n",
    "    return urls_return"
   ]
  },
  {
   "cell_type": "code",
   "execution_count": 5,
   "metadata": {},
   "outputs": [],
   "source": [
    "listas_url_supermercados = get_urls(\"https://super.facua.org/\", 'Acceder')"
   ]
  },
  {
   "cell_type": "code",
   "execution_count": 6,
   "metadata": {},
   "outputs": [],
   "source": [
    "listas_categorias_por_supermercados1 = []\n",
    "for i in listas_url_supermercados:\n",
    "    listas_categorias_por_supermercados1.append(get_urls(i,'Ver'))"
   ]
  },
  {
   "cell_type": "code",
   "execution_count": 7,
   "metadata": {},
   "outputs": [],
   "source": [
    "lista_limpita_categorias = []\n",
    "for k in listas_categorias_por_supermercados1:\n",
    "    for h in k:\n",
    "        lista_limpita_categorias.append(h)"
   ]
  },
  {
   "cell_type": "code",
   "execution_count": 8,
   "metadata": {},
   "outputs": [],
   "source": [
    "listas_productos = []\n",
    "for producto in lista_limpita_categorias:\n",
    "    listas_productos.append(get_urls(producto, 'Histórico'))"
   ]
  },
  {
   "cell_type": "code",
   "execution_count": 9,
   "metadata": {},
   "outputs": [],
   "source": [
    "lista_productos_limpiados = []\n",
    "for p in listas_productos:\n",
    "    for q in p:\n",
    "        lista_productos_limpiados.append(q)"
   ]
  }
 ],
 "metadata": {
  "kernelspec": {
   "display_name": "Python 3",
   "language": "python",
   "name": "python3"
  },
  "language_info": {
   "codemirror_mode": {
    "name": "ipython",
    "version": 3
   },
   "file_extension": ".py",
   "mimetype": "text/x-python",
   "name": "python",
   "nbconvert_exporter": "python",
   "pygments_lexer": "ipython3",
   "version": "3.12.4"
  }
 },
 "nbformat": 4,
 "nbformat_minor": 2
}
