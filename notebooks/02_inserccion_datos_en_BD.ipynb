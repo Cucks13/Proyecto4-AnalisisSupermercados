{
 "cells": [
  {
   "cell_type": "code",
   "execution_count": 4,
   "metadata": {},
   "outputs": [
    {
     "data": {
      "text/plain": [
       "True"
      ]
     },
     "execution_count": 4,
     "metadata": {},
     "output_type": "execute_result"
    }
   ],
   "source": [
    "import pandas as pd \n",
    "import os\n",
    "import psycopg2 \n",
    "from dotenv import load_dotenv\n",
    "\n",
    "import sys\n",
    "sys.path.append(\"../\")\n",
    "from src import bd as bd\n",
    "from src import tablas_insercion as ti\n",
    "\n",
    "load_dotenv()"
   ]
  },
  {
   "cell_type": "code",
   "execution_count": 2,
   "metadata": {},
   "outputs": [],
   "source": [
    "user = os.getenv(\"USUARIO\")\n",
    "password = os.getenv(\"CONTRASEÑA\")\n",
    "host = os.getenv(\"HOST\")\n",
    "database = os.getenv(\"NOMBRE\")"
   ]
  },
  {
   "cell_type": "code",
   "execution_count": null,
   "metadata": {},
   "outputs": [],
   "source": [
    "conn, cursor = bd.conexion(user,password,host,database)\n",
    "\n",
    "df = pd.read_csv(\"../data/productos.csv\", index_col = 0)\n",
    "\n",
    "ti.main(conn,cursor,df)\n",
    "\n",
    "bd.cerrar_conexion(conn, cursor)"
   ]
  }
 ],
 "metadata": {
  "kernelspec": {
   "display_name": "entorno_develop",
   "language": "python",
   "name": "python3"
  },
  "language_info": {
   "codemirror_mode": {
    "name": "ipython",
    "version": 3
   },
   "file_extension": ".py",
   "mimetype": "text/x-python",
   "name": "python",
   "nbconvert_exporter": "python",
   "pygments_lexer": "ipython3",
   "version": "3.12.4"
  }
 },
 "nbformat": 4,
 "nbformat_minor": 2
}
